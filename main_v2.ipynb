{
 "cells": [
  {
   "cell_type": "code",
   "execution_count": null,
   "metadata": {},
   "outputs": [],
   "source": [
    "import subprocess\n",
    "import os\n",
    "import re\n",
    "\n",
    "def pick_free_gpu(threshold_mb=2000):\n",
    "    result = subprocess.run(\n",
    "        [\"nvidia-smi\", \"--query-gpu=memory.free\", \"--format=csv,nounits,noheader\"],\n",
    "        stdout=subprocess.PIPE,\n",
    "        text=True\n",
    "    )\n",
    "    gpu_memory = [int(x) for x in result.stdout.strip().split('\\n')]\n",
    "    for idx, mem in enumerate(gpu_memory):\n",
    "        if mem > threshold_mb:\n",
    "            return str(idx)\n",
    "    return None\n",
    "\n",
    "# 使用\n",
    "gpu_id = pick_free_gpu()\n",
    "if gpu_id is None:\n",
    "    raise RuntimeError(\"❌ 没有空闲 GPU，退出训练\")\n",
    "os.environ[\"CUDA_VISIBLE_DEVICES\"] = gpu_id\n",
    "print(f\"✅ 使用 GPU:{gpu_id}\")\n",
    "\n",
    "randomSeed = 1\n",
    "os.environ['PYTHONHASHSEED']=str(randomSeed)"
   ]
  },
  {
   "cell_type": "code",
   "execution_count": null,
   "metadata": {},
   "outputs": [],
   "source": [
    "import numpy as np\n",
    "import torch\n",
    "import torch.nn as nn\n",
    "import torch.nn.functional as F"
   ]
  },
  {
   "cell_type": "code",
   "execution_count": null,
   "metadata": {},
   "outputs": [],
   "source": []
  }
 ],
 "metadata": {
  "kernelspec": {
   "display_name": "HAR",
   "language": "python",
   "name": "python3"
  },
  "language_info": {
   "codemirror_mode": {
    "name": "ipython",
    "version": 3
   },
   "file_extension": ".py",
   "mimetype": "text/x-python",
   "name": "python",
   "nbconvert_exporter": "python",
   "pygments_lexer": "ipython3",
   "version": "3.9.21"
  }
 },
 "nbformat": 4,
 "nbformat_minor": 2
}
